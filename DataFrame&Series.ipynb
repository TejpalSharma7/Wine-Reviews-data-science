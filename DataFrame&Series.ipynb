{
 "cells": [
  {
   "cell_type": "code",
   "execution_count": 2,
   "id": "63e9de5e",
   "metadata": {},
   "outputs": [
    {
     "data": {
      "text/html": [
       "<div>\n",
       "<style scoped>\n",
       "    .dataframe tbody tr th:only-of-type {\n",
       "        vertical-align: middle;\n",
       "    }\n",
       "\n",
       "    .dataframe tbody tr th {\n",
       "        vertical-align: top;\n",
       "    }\n",
       "\n",
       "    .dataframe thead th {\n",
       "        text-align: right;\n",
       "    }\n",
       "</style>\n",
       "<table border=\"1\" class=\"dataframe\">\n",
       "  <thead>\n",
       "    <tr style=\"text-align: right;\">\n",
       "      <th></th>\n",
       "      <th>Gluuu</th>\n",
       "      <th>Baba</th>\n",
       "    </tr>\n",
       "  </thead>\n",
       "  <tbody>\n",
       "    <tr>\n",
       "      <th>0</th>\n",
       "      <td>Buddhu</td>\n",
       "      <td>Iloveyou</td>\n",
       "    </tr>\n",
       "    <tr>\n",
       "      <th>1</th>\n",
       "      <td>Iloveyou</td>\n",
       "      <td>pagluuu</td>\n",
       "    </tr>\n",
       "  </tbody>\n",
       "</table>\n",
       "</div>"
      ],
      "text/plain": [
       "      Gluuu      Baba\n",
       "0    Buddhu  Iloveyou\n",
       "1  Iloveyou   pagluuu"
      ]
     },
     "execution_count": 2,
     "metadata": {},
     "output_type": "execute_result"
    }
   ],
   "source": [
    "import pandas as pd\n",
    "pd.DataFrame({'Gluuu':['Buddhu','Iloveyou'], 'Baba':['Iloveyou','pagluuu']})"
   ]
  },
  {
   "cell_type": "code",
   "execution_count": 5,
   "id": "505384e7",
   "metadata": {},
   "outputs": [
    {
     "data": {
      "text/html": [
       "<div>\n",
       "<style scoped>\n",
       "    .dataframe tbody tr th:only-of-type {\n",
       "        vertical-align: middle;\n",
       "    }\n",
       "\n",
       "    .dataframe tbody tr th {\n",
       "        vertical-align: top;\n",
       "    }\n",
       "\n",
       "    .dataframe thead th {\n",
       "        text-align: right;\n",
       "    }\n",
       "</style>\n",
       "<table border=\"1\" class=\"dataframe\">\n",
       "  <thead>\n",
       "    <tr style=\"text-align: right;\">\n",
       "      <th></th>\n",
       "      <th>Gluuu</th>\n",
       "      <th>Baba</th>\n",
       "    </tr>\n",
       "  </thead>\n",
       "  <tbody>\n",
       "    <tr>\n",
       "      <th>Quote A</th>\n",
       "      <td>Buddhu</td>\n",
       "      <td>Iloveyou</td>\n",
       "    </tr>\n",
       "    <tr>\n",
       "      <th>Qoute B</th>\n",
       "      <td>Iloveyou</td>\n",
       "      <td>pagluuu</td>\n",
       "    </tr>\n",
       "  </tbody>\n",
       "</table>\n",
       "</div>"
      ],
      "text/plain": [
       "            Gluuu      Baba\n",
       "Quote A    Buddhu  Iloveyou\n",
       "Qoute B  Iloveyou   pagluuu"
      ]
     },
     "execution_count": 5,
     "metadata": {},
     "output_type": "execute_result"
    }
   ],
   "source": [
    "pd.DataFrame({'Gluuu':['Buddhu','Iloveyou'], 'Baba':['Iloveyou','pagluuu']}, index=['Quote A','Qoute B'])"
   ]
  },
  {
   "cell_type": "code",
   "execution_count": 7,
   "id": "e5f00acc",
   "metadata": {},
   "outputs": [
    {
     "data": {
      "text/plain": [
       "0    1\n",
       "1    2\n",
       "2    3\n",
       "3    4\n",
       "4    5\n",
       "dtype: int64"
      ]
     },
     "execution_count": 7,
     "metadata": {},
     "output_type": "execute_result"
    }
   ],
   "source": [
    "pd.Series([1,2,3,4,5])"
   ]
  },
  {
   "cell_type": "code",
   "execution_count": 10,
   "id": "20f2010a",
   "metadata": {},
   "outputs": [
    {
     "data": {
      "text/plain": [
       "2020 used    30\n",
       "2021 used    35\n",
       "2022 used    40\n",
       "Name: Qoute A, dtype: int64"
      ]
     },
     "execution_count": 10,
     "metadata": {},
     "output_type": "execute_result"
    }
   ],
   "source": [
    "pd.Series([30,35,40],index=['2020 used','2021 used','2022 used'], name='Qoute A')"
   ]
  },
  {
   "cell_type": "code",
   "execution_count": null,
   "id": "0d2cf021",
   "metadata": {},
   "outputs": [],
   "source": [
    "wine_data= 'wineReviews.csv'\n",
    "wine_reviews= pd.read_csv(wine_data,index_col=0)\n",
    "wine_reviews.head"
   ]
  }
 ],
 "metadata": {
  "kernelspec": {
   "display_name": "Python 3 (ipykernel)",
   "language": "python",
   "name": "python3"
  },
  "language_info": {
   "codemirror_mode": {
    "name": "ipython",
    "version": 3
   },
   "file_extension": ".py",
   "mimetype": "text/x-python",
   "name": "python",
   "nbconvert_exporter": "python",
   "pygments_lexer": "ipython3",
   "version": "3.10.0"
  }
 },
 "nbformat": 4,
 "nbformat_minor": 5
}
